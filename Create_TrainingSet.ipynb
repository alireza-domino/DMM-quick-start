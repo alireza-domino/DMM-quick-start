{
 "cells": [
  {
   "cell_type": "code",
   "execution_count": null,
   "id": "2f899096-a1ce-4ee5-91dd-4db676458cb0",
   "metadata": {},
   "outputs": [],
   "source": [
    "pip install --user domino-data-sdk"
   ]
  },
  {
   "cell_type": "code",
   "execution_count": null,
   "id": "f87e9dfe-9f09-409e-ad6f-b150ce85f276",
   "metadata": {},
   "outputs": [],
   "source": [
    "from domino_data_sdk.trainingset import client, model\n",
    "import pandas as pd"
   ]
  },
  {
   "cell_type": "code",
   "execution_count": null,
   "id": "9b421d8a-3d0a-4919-bea1-95ad7ce1dc35",
   "metadata": {},
   "outputs": [],
   "source": [
    "training_df = pd.read_csv(\"/domino/datasets/local/house-price-prediction-demo10/kc_house_data.csv\")\n",
    "\n",
    "# Dropping id and date\n",
    "training_df = training_df.drop(['date'],axis=1)\n",
    "\n",
    "tsv = client.create_training_set_version(\n",
    "    training_set_name=\"house_prices_demo10\",\n",
    "    df=training_df,\n",
    "    key_columns=[\"event_id\"],\n",
    "    target_columns=[\"price\"],\n",
    "    exclude_columns=[],\n",
    "    meta={\"experiment_id\": \"0.1\"},\n",
    "    monitoring_meta=model.MonitoringMeta(**{\n",
    "        \"categorical_columns\": [],\n",
    "        \"timestamp_columns\": [],\n",
    "        \"ordinal_columns\": []\n",
    "    }),\n",
    "    project_name=\"house-price-prediction-demo10\"\n",
    ")\n",
    "\n",
    "print(f\"TrainingSetVersion {tsv.training_set_name}:{tsv.number}\")"
   ]
  }
 ],
 "metadata": {
  "kernelspec": {
   "display_name": "Python 3 (ipykernel)",
   "language": "python",
   "name": "python3"
  },
  "language_info": {
   "codemirror_mode": {
    "name": "ipython",
    "version": 3
   },
   "file_extension": ".py",
   "mimetype": "text/x-python",
   "name": "python",
   "nbconvert_exporter": "python",
   "pygments_lexer": "ipython3",
   "version": "3.8.10"
  }
 },
 "nbformat": 4,
 "nbformat_minor": 5
}
